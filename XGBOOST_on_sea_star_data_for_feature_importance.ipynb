{
  "nbformat": 4,
  "nbformat_minor": 0,
  "metadata": {
    "kernelspec": {
      "display_name": "Python 3",
      "language": "python",
      "name": "python3"
    },
    "language_info": {
      "name": "python",
      "version": "3.6.6",
      "mimetype": "text/x-python",
      "codemirror_mode": {
        "name": "ipython",
        "version": 3
      },
      "pygments_lexer": "ipython3",
      "nbconvert_exporter": "python",
      "file_extension": ".py"
    },
    "colab": {
      "name": "XGBOOST on sea star data for feature importance.ipynb",
      "version": "0.3.2",
      "provenance": [],
      "collapsed_sections": [],
      "include_colab_link": true
    }
  },
  "cells": [
    {
      "cell_type": "markdown",
      "metadata": {
        "id": "view-in-github",
        "colab_type": "text"
      },
      "source": [
        "<a href=\"https://colab.research.google.com/github/KenyanGeek/Australian-birds-classifier/blob/master/XGBOOST_on_sea_star_data_for_feature_importance.ipynb\" target=\"_parent\"><img src=\"https://colab.research.google.com/assets/colab-badge.svg\" alt=\"Open In Colab\"/></a>"
      ]
    },
    {
      "cell_type": "code",
      "metadata": {
        "id": "6IGhXj8EBsQY",
        "colab_type": "code",
        "outputId": "2d2b3b98-21ef-4f70-db32-b48e267316a3",
        "colab": {
          "base_uri": "https://localhost:8080/",
          "height": 122
        }
      },
      "source": [
        "# Mounting the Google Drive \n",
        "from google.colab import drive\n",
        "drive.mount('/content/drive')"
      ],
      "execution_count": 0,
      "outputs": [
        {
          "output_type": "stream",
          "text": [
            "Go to this URL in a browser: https://accounts.google.com/o/oauth2/auth?client_id=947318989803-6bn6qk8qdgf4n4g3pfee6491hc0brc4i.apps.googleusercontent.com&redirect_uri=urn%3Aietf%3Awg%3Aoauth%3A2.0%3Aoob&scope=email%20https%3A%2F%2Fwww.googleapis.com%2Fauth%2Fdocs.test%20https%3A%2F%2Fwww.googleapis.com%2Fauth%2Fdrive%20https%3A%2F%2Fwww.googleapis.com%2Fauth%2Fdrive.photos.readonly%20https%3A%2F%2Fwww.googleapis.com%2Fauth%2Fpeopleapi.readonly&response_type=code\n",
            "\n",
            "Enter your authorization code:\n",
            "··········\n",
            "Mounted at /content/drive\n"
          ],
          "name": "stdout"
        }
      ]
    },
    {
      "cell_type": "code",
      "metadata": {
        "_cell_guid": "79c7e3d0-c299-4dcb-8224-4455121ee9b0",
        "_uuid": "d629ff2d2480ee46fbb7e2d37f6b5fab8052498a",
        "trusted": true,
        "id": "2iL03gqB_yCs",
        "colab_type": "code",
        "colab": {}
      },
      "source": [
        "#Importing pandas \n",
        "import pandas as pd\n",
        "\n",
        "#importing dataset into variable df\n",
        "df = pd.read_csv('/content/drive/My Drive/seastardata/Sunflower_data_complete_abundance_score_lower_limit_with_temp.csv')\n",
        "\n"
      ],
      "execution_count": 0,
      "outputs": []
    },
    {
      "cell_type": "code",
      "metadata": {
        "trusted": true,
        "_uuid": "9b84e09b8019768d0a2bba7b1e8746faaf26e66d",
        "id": "wPMAsjgv_yCu",
        "colab_type": "code",
        "outputId": "391aba3b-20be-4901-b03c-1cdff5230a9d",
        "colab": {
          "base_uri": "https://localhost:8080/",
          "height": 309
        }
      },
      "source": [
        "#Checking out the dataset\n",
        "df.head()"
      ],
      "execution_count": 0,
      "outputs": [
        {
          "output_type": "execute_result",
          "data": {
            "text/html": [
              "<div>\n",
              "<style scoped>\n",
              "    .dataframe tbody tr th:only-of-type {\n",
              "        vertical-align: middle;\n",
              "    }\n",
              "\n",
              "    .dataframe tbody tr th {\n",
              "        vertical-align: top;\n",
              "    }\n",
              "\n",
              "    .dataframe thead th {\n",
              "        text-align: right;\n",
              "    }\n",
              "</style>\n",
              "<table border=\"1\" class=\"dataframe\">\n",
              "  <thead>\n",
              "    <tr style=\"text-align: right;\">\n",
              "      <th></th>\n",
              "      <th>form</th>\n",
              "      <th>exp</th>\n",
              "      <th>type</th>\n",
              "      <th>geozone</th>\n",
              "      <th>date</th>\n",
              "      <th>stemp</th>\n",
              "      <th>btemp</th>\n",
              "      <th>btime</th>\n",
              "      <th>start</th>\n",
              "      <th>visib</th>\n",
              "      <th>maxdepth</th>\n",
              "      <th>current</th>\n",
              "      <th>habitat</th>\n",
              "      <th>species</th>\n",
              "      <th>abundance</th>\n",
              "      <th>year</th>\n",
              "      <th>as_as_date</th>\n",
              "      <th>quarter_year</th>\n",
              "      <th>lat</th>\n",
              "      <th>lon</th>\n",
              "      <th>lat2</th>\n",
              "      <th>lon2</th>\n",
              "      <th>state</th>\n",
              "      <th>semester</th>\n",
              "      <th>abundance2</th>\n",
              "      <th>maxsst30</th>\n",
              "      <th>maxsst60</th>\n",
              "      <th>maxsst90</th>\n",
              "      <th>maxsst180</th>\n",
              "      <th>maxsst360</th>\n",
              "      <th>maxanom30</th>\n",
              "      <th>maxanom60</th>\n",
              "      <th>maxanom90</th>\n",
              "      <th>maxanom180</th>\n",
              "      <th>maxanom360</th>\n",
              "      <th>maxsst30_days</th>\n",
              "      <th>maxsst60_days</th>\n",
              "      <th>maxsst90_days</th>\n",
              "      <th>maxsst180_days</th>\n",
              "      <th>maxsst360_days</th>\n",
              "      <th>maxanom30_days</th>\n",
              "      <th>maxanom60_days</th>\n",
              "      <th>maxanom90_days</th>\n",
              "      <th>maxanom180_days</th>\n",
              "      <th>maxanom360_days</th>\n",
              "    </tr>\n",
              "  </thead>\n",
              "  <tbody>\n",
              "    <tr>\n",
              "      <th>0</th>\n",
              "      <td>5113523</td>\n",
              "      <td>N</td>\n",
              "      <td>2</td>\n",
              "      <td>13350001</td>\n",
              "      <td>6/23/16</td>\n",
              "      <td>0</td>\n",
              "      <td>50</td>\n",
              "      <td>77</td>\n",
              "      <td>19</td>\n",
              "      <td>4</td>\n",
              "      <td>10</td>\n",
              "      <td>3</td>\n",
              "      <td>11</td>\n",
              "      <td>173</td>\n",
              "      <td>2</td>\n",
              "      <td>2016</td>\n",
              "      <td>6/23/16</td>\n",
              "      <td>Q2.2016</td>\n",
              "      <td>49 18.835</td>\n",
              "      <td>-124 14.497</td>\n",
              "      <td>49.18835</td>\n",
              "      <td>-124.14497</td>\n",
              "      <td>BC</td>\n",
              "      <td>1.2016</td>\n",
              "      <td>2</td>\n",
              "      <td>18.12</td>\n",
              "      <td>18.12</td>\n",
              "      <td>18.12</td>\n",
              "      <td>18.12</td>\n",
              "      <td>20.12</td>\n",
              "      <td>4.05</td>\n",
              "      <td>4.05</td>\n",
              "      <td>4.05</td>\n",
              "      <td>4.05</td>\n",
              "      <td>4.35</td>\n",
              "      <td>16</td>\n",
              "      <td>16</td>\n",
              "      <td>16</td>\n",
              "      <td>16</td>\n",
              "      <td>327</td>\n",
              "      <td>17</td>\n",
              "      <td>17</td>\n",
              "      <td>17</td>\n",
              "      <td>17</td>\n",
              "      <td>359</td>\n",
              "    </tr>\n",
              "    <tr>\n",
              "      <th>1</th>\n",
              "      <td>5107481</td>\n",
              "      <td>N</td>\n",
              "      <td>2</td>\n",
              "      <td>13350001</td>\n",
              "      <td>1/10/16</td>\n",
              "      <td>0</td>\n",
              "      <td>45</td>\n",
              "      <td>60</td>\n",
              "      <td>10</td>\n",
              "      <td>3</td>\n",
              "      <td>6</td>\n",
              "      <td>3</td>\n",
              "      <td>11</td>\n",
              "      <td>173</td>\n",
              "      <td>2</td>\n",
              "      <td>2016</td>\n",
              "      <td>1/10/16</td>\n",
              "      <td>Q1.2016</td>\n",
              "      <td>49 18.835</td>\n",
              "      <td>-124 14.497</td>\n",
              "      <td>49.18835</td>\n",
              "      <td>-124.14497</td>\n",
              "      <td>BC</td>\n",
              "      <td>1.2016</td>\n",
              "      <td>2</td>\n",
              "      <td>9.18</td>\n",
              "      <td>10.34</td>\n",
              "      <td>12.75</td>\n",
              "      <td>20.12</td>\n",
              "      <td>20.12</td>\n",
              "      <td>1.45</td>\n",
              "      <td>1.62</td>\n",
              "      <td>1.75</td>\n",
              "      <td>3.93</td>\n",
              "      <td>5.30</td>\n",
              "      <td>29</td>\n",
              "      <td>59</td>\n",
              "      <td>82</td>\n",
              "      <td>162</td>\n",
              "      <td>162</td>\n",
              "      <td>29</td>\n",
              "      <td>32</td>\n",
              "      <td>82</td>\n",
              "      <td>162</td>\n",
              "      <td>225</td>\n",
              "    </tr>\n",
              "    <tr>\n",
              "      <th>2</th>\n",
              "      <td>5034193</td>\n",
              "      <td>N</td>\n",
              "      <td>2</td>\n",
              "      <td>12090802</td>\n",
              "      <td>5/28/10</td>\n",
              "      <td>10</td>\n",
              "      <td>10</td>\n",
              "      <td>37</td>\n",
              "      <td>14</td>\n",
              "      <td>2</td>\n",
              "      <td>3</td>\n",
              "      <td>3</td>\n",
              "      <td>11</td>\n",
              "      <td>173</td>\n",
              "      <td>3</td>\n",
              "      <td>2010</td>\n",
              "      <td>5/28/10</td>\n",
              "      <td>Q2.2010</td>\n",
              "      <td>48 50.07</td>\n",
              "      <td>-125 08.08</td>\n",
              "      <td>48.50070</td>\n",
              "      <td>-125.08080</td>\n",
              "      <td>BC</td>\n",
              "      <td>1.2010</td>\n",
              "      <td>11</td>\n",
              "      <td>11.14</td>\n",
              "      <td>11.14</td>\n",
              "      <td>11.14</td>\n",
              "      <td>11.14</td>\n",
              "      <td>15.63</td>\n",
              "      <td>0.24</td>\n",
              "      <td>0.24</td>\n",
              "      <td>0.82</td>\n",
              "      <td>1.95</td>\n",
              "      <td>2.79</td>\n",
              "      <td>19</td>\n",
              "      <td>19</td>\n",
              "      <td>19</td>\n",
              "      <td>19</td>\n",
              "      <td>271</td>\n",
              "      <td>19</td>\n",
              "      <td>19</td>\n",
              "      <td>82</td>\n",
              "      <td>133</td>\n",
              "      <td>271</td>\n",
              "    </tr>\n",
              "    <tr>\n",
              "      <th>3</th>\n",
              "      <td>50508</td>\n",
              "      <td>N</td>\n",
              "      <td>2</td>\n",
              "      <td>22190002</td>\n",
              "      <td>3/11/06</td>\n",
              "      <td>51</td>\n",
              "      <td>48</td>\n",
              "      <td>39</td>\n",
              "      <td>13</td>\n",
              "      <td>1</td>\n",
              "      <td>7</td>\n",
              "      <td>2</td>\n",
              "      <td>2</td>\n",
              "      <td>173</td>\n",
              "      <td>3</td>\n",
              "      <td>2006</td>\n",
              "      <td>3/11/06</td>\n",
              "      <td>Q1.2006</td>\n",
              "      <td>48 35.473</td>\n",
              "      <td>-122 40.993</td>\n",
              "      <td>48.35473</td>\n",
              "      <td>-122.40993</td>\n",
              "      <td>WA</td>\n",
              "      <td>1.2006</td>\n",
              "      <td>11</td>\n",
              "      <td>8.05</td>\n",
              "      <td>8.22</td>\n",
              "      <td>8.22</td>\n",
              "      <td>13.32</td>\n",
              "      <td>14.99</td>\n",
              "      <td>0.82</td>\n",
              "      <td>0.94</td>\n",
              "      <td>0.94</td>\n",
              "      <td>1.35</td>\n",
              "      <td>2.55</td>\n",
              "      <td>28</td>\n",
              "      <td>35</td>\n",
              "      <td>35</td>\n",
              "      <td>178</td>\n",
              "      <td>209</td>\n",
              "      <td>28</td>\n",
              "      <td>35</td>\n",
              "      <td>35</td>\n",
              "      <td>178</td>\n",
              "      <td>209</td>\n",
              "    </tr>\n",
              "    <tr>\n",
              "      <th>4</th>\n",
              "      <td>5045686</td>\n",
              "      <td>N</td>\n",
              "      <td>2</td>\n",
              "      <td>27020107</td>\n",
              "      <td>4/30/11</td>\n",
              "      <td>56</td>\n",
              "      <td>0</td>\n",
              "      <td>30</td>\n",
              "      <td>15</td>\n",
              "      <td>2</td>\n",
              "      <td>3</td>\n",
              "      <td>2</td>\n",
              "      <td>1</td>\n",
              "      <td>173</td>\n",
              "      <td>0</td>\n",
              "      <td>2011</td>\n",
              "      <td>4/30/11</td>\n",
              "      <td>Q2.2011</td>\n",
              "      <td>48 08.413</td>\n",
              "      <td>-123 37.813</td>\n",
              "      <td>48.08413</td>\n",
              "      <td>-123.37813</td>\n",
              "      <td>WA</td>\n",
              "      <td>1.2011</td>\n",
              "      <td>0</td>\n",
              "      <td>8.62</td>\n",
              "      <td>8.62</td>\n",
              "      <td>8.62</td>\n",
              "      <td>10.43</td>\n",
              "      <td>12.09</td>\n",
              "      <td>-0.50</td>\n",
              "      <td>-0.21</td>\n",
              "      <td>0.09</td>\n",
              "      <td>1.03</td>\n",
              "      <td>1.03</td>\n",
              "      <td>0</td>\n",
              "      <td>0</td>\n",
              "      <td>0</td>\n",
              "      <td>177</td>\n",
              "      <td>268</td>\n",
              "      <td>29</td>\n",
              "      <td>39</td>\n",
              "      <td>75</td>\n",
              "      <td>175</td>\n",
              "      <td>175</td>\n",
              "    </tr>\n",
              "  </tbody>\n",
              "</table>\n",
              "</div>"
            ],
            "text/plain": [
              "      form exp  type  ...  maxanom90_days maxanom180_days  maxanom360_days\n",
              "0  5113523   N     2  ...              17              17              359\n",
              "1  5107481   N     2  ...              82             162              225\n",
              "2  5034193   N     2  ...              82             133              271\n",
              "3    50508   N     2  ...              35             178              209\n",
              "4  5045686   N     2  ...              75             175              175\n",
              "\n",
              "[5 rows x 45 columns]"
            ]
          },
          "metadata": {
            "tags": []
          },
          "execution_count": 20
        }
      ]
    },
    {
      "cell_type": "code",
      "metadata": {
        "trusted": true,
        "id": "0W4yb8IH_yCx",
        "colab_type": "code",
        "outputId": "5f2a2362-4498-4ee8-b462-bc2c31a95bcb",
        "colab": {
          "base_uri": "https://localhost:8080/",
          "height": 187
        }
      },
      "source": [
        "#checking out the columns\n",
        "df.columns\n"
      ],
      "execution_count": 0,
      "outputs": [
        {
          "output_type": "execute_result",
          "data": {
            "text/plain": [
              "Index(['form', 'exp', 'type', 'geozone', 'date', 'stemp', 'btemp', 'btime',\n",
              "       'start', 'visib', 'maxdepth', 'current', 'habitat', 'species',\n",
              "       'abundance', 'year', 'as_as_date', 'quarter_year', 'lat', 'lon', 'lat2',\n",
              "       'lon2', 'state', 'semester', 'abundance2', 'maxsst30', 'maxsst60',\n",
              "       'maxsst90', 'maxsst180', 'maxsst360', 'maxanom30', 'maxanom60',\n",
              "       'maxanom90', 'maxanom180', 'maxanom360', 'maxsst30_days',\n",
              "       'maxsst60_days', 'maxsst90_days', 'maxsst180_days', 'maxsst360_days',\n",
              "       'maxanom30_days', 'maxanom60_days', 'maxanom90_days', 'maxanom180_days',\n",
              "       'maxanom360_days'],\n",
              "      dtype='object')"
            ]
          },
          "metadata": {
            "tags": []
          },
          "execution_count": 21
        }
      ]
    },
    {
      "cell_type": "code",
      "metadata": {
        "id": "j-uth241Fwg4",
        "colab_type": "code",
        "outputId": "a98bc089-2df0-48f6-e2cf-edc1518e7daf",
        "colab": {
          "base_uri": "https://localhost:8080/",
          "height": 799
        }
      },
      "source": [
        "#Checking out the datatypes\n",
        "df.dtypes"
      ],
      "execution_count": 0,
      "outputs": [
        {
          "output_type": "execute_result",
          "data": {
            "text/plain": [
              "form                 int64\n",
              "exp                 object\n",
              "type                 int64\n",
              "geozone              int64\n",
              "date                object\n",
              "stemp                int64\n",
              "btemp                int64\n",
              "btime                int64\n",
              "start                int64\n",
              "visib                int64\n",
              "maxdepth             int64\n",
              "current              int64\n",
              "habitat              int64\n",
              "species              int64\n",
              "abundance            int64\n",
              "year                 int64\n",
              "as_as_date          object\n",
              "quarter_year        object\n",
              "lat                 object\n",
              "lon                 object\n",
              "lat2               float64\n",
              "lon2               float64\n",
              "state               object\n",
              "semester           float64\n",
              "abundance2           int64\n",
              "maxsst30           float64\n",
              "maxsst60           float64\n",
              "maxsst90           float64\n",
              "maxsst180          float64\n",
              "maxsst360          float64\n",
              "maxanom30          float64\n",
              "maxanom60          float64\n",
              "maxanom90          float64\n",
              "maxanom180         float64\n",
              "maxanom360         float64\n",
              "maxsst30_days        int64\n",
              "maxsst60_days        int64\n",
              "maxsst90_days        int64\n",
              "maxsst180_days       int64\n",
              "maxsst360_days       int64\n",
              "maxanom30_days       int64\n",
              "maxanom60_days       int64\n",
              "maxanom90_days       int64\n",
              "maxanom180_days      int64\n",
              "maxanom360_days      int64\n",
              "dtype: object"
            ]
          },
          "metadata": {
            "tags": []
          },
          "execution_count": 29
        }
      ]
    },
    {
      "cell_type": "code",
      "metadata": {
        "id": "mzt1EGFoGmx1",
        "colab_type": "code",
        "colab": {}
      },
      "source": [
        "#earmarking all columns with dtype as object\n",
        "cols = df.columns[df.dtypes.eq(object)]\n"
      ],
      "execution_count": 0,
      "outputs": []
    },
    {
      "cell_type": "code",
      "metadata": {
        "id": "PD7j0RF0Go6k",
        "colab_type": "code",
        "outputId": "0106013c-d428-458a-8633-cba959606c2d",
        "colab": {
          "base_uri": "https://localhost:8080/",
          "height": 34
        }
      },
      "source": [
        "#checking if our earmark has worked\n",
        "cols\n"
      ],
      "execution_count": 0,
      "outputs": [
        {
          "output_type": "execute_result",
          "data": {
            "text/plain": [
              "Index(['exp', 'date', 'as_as_date', 'quarter_year', 'lat', 'lon', 'state'], dtype='object')"
            ]
          },
          "metadata": {
            "tags": []
          },
          "execution_count": 31
        }
      ]
    },
    {
      "cell_type": "code",
      "metadata": {
        "id": "wFXoQl_2GtPc",
        "colab_type": "code",
        "colab": {}
      },
      "source": [
        "#convert those columns into numeric variables\n",
        "df[cols] = df[cols].apply(pd.to_numeric, errors='coerce')\n"
      ],
      "execution_count": 0,
      "outputs": []
    },
    {
      "cell_type": "code",
      "metadata": {
        "id": "-4dmuy3kGyyO",
        "colab_type": "code",
        "outputId": "0b4c8be3-a651-4c0d-87aa-921bd1650ad9",
        "colab": {
          "base_uri": "https://localhost:8080/",
          "height": 799
        }
      },
      "source": [
        "#checking if our conversion has worked\n",
        "df.dtypes"
      ],
      "execution_count": 0,
      "outputs": [
        {
          "output_type": "execute_result",
          "data": {
            "text/plain": [
              "form                 int64\n",
              "exp                float64\n",
              "type                 int64\n",
              "geozone              int64\n",
              "date               float64\n",
              "stemp                int64\n",
              "btemp                int64\n",
              "btime                int64\n",
              "start                int64\n",
              "visib                int64\n",
              "maxdepth             int64\n",
              "current              int64\n",
              "habitat              int64\n",
              "species              int64\n",
              "abundance            int64\n",
              "year                 int64\n",
              "as_as_date         float64\n",
              "quarter_year       float64\n",
              "lat                float64\n",
              "lon                float64\n",
              "lat2               float64\n",
              "lon2               float64\n",
              "state              float64\n",
              "semester           float64\n",
              "abundance2           int64\n",
              "maxsst30           float64\n",
              "maxsst60           float64\n",
              "maxsst90           float64\n",
              "maxsst180          float64\n",
              "maxsst360          float64\n",
              "maxanom30          float64\n",
              "maxanom60          float64\n",
              "maxanom90          float64\n",
              "maxanom180         float64\n",
              "maxanom360         float64\n",
              "maxsst30_days        int64\n",
              "maxsst60_days        int64\n",
              "maxsst90_days        int64\n",
              "maxsst180_days       int64\n",
              "maxsst360_days       int64\n",
              "maxanom30_days       int64\n",
              "maxanom60_days       int64\n",
              "maxanom90_days       int64\n",
              "maxanom180_days      int64\n",
              "maxanom360_days      int64\n",
              "dtype: object"
            ]
          },
          "metadata": {
            "tags": []
          },
          "execution_count": 33
        }
      ]
    },
    {
      "cell_type": "code",
      "metadata": {
        "id": "1T83LMjEDUPs",
        "colab_type": "code",
        "colab": {}
      },
      "source": [
        " #isolating the dependent variable\n",
        " y = df.loc[:, ['abundance2']]"
      ],
      "execution_count": 0,
      "outputs": []
    },
    {
      "cell_type": "code",
      "metadata": {
        "id": "8O2oGq2pEGpr",
        "colab_type": "code",
        "outputId": "0c6c07f8-07ab-445b-85ba-53d250ec206f",
        "colab": {
          "base_uri": "https://localhost:8080/",
          "height": 204
        }
      },
      "source": [
        "#checking the dependent variable\n",
        "y.head()\n"
      ],
      "execution_count": 0,
      "outputs": [
        {
          "output_type": "execute_result",
          "data": {
            "text/html": [
              "<div>\n",
              "<style scoped>\n",
              "    .dataframe tbody tr th:only-of-type {\n",
              "        vertical-align: middle;\n",
              "    }\n",
              "\n",
              "    .dataframe tbody tr th {\n",
              "        vertical-align: top;\n",
              "    }\n",
              "\n",
              "    .dataframe thead th {\n",
              "        text-align: right;\n",
              "    }\n",
              "</style>\n",
              "<table border=\"1\" class=\"dataframe\">\n",
              "  <thead>\n",
              "    <tr style=\"text-align: right;\">\n",
              "      <th></th>\n",
              "      <th>abundance2</th>\n",
              "    </tr>\n",
              "  </thead>\n",
              "  <tbody>\n",
              "    <tr>\n",
              "      <th>0</th>\n",
              "      <td>2</td>\n",
              "    </tr>\n",
              "    <tr>\n",
              "      <th>1</th>\n",
              "      <td>2</td>\n",
              "    </tr>\n",
              "    <tr>\n",
              "      <th>2</th>\n",
              "      <td>11</td>\n",
              "    </tr>\n",
              "    <tr>\n",
              "      <th>3</th>\n",
              "      <td>11</td>\n",
              "    </tr>\n",
              "    <tr>\n",
              "      <th>4</th>\n",
              "      <td>0</td>\n",
              "    </tr>\n",
              "  </tbody>\n",
              "</table>\n",
              "</div>"
            ],
            "text/plain": [
              "   abundance2\n",
              "0           2\n",
              "1           2\n",
              "2          11\n",
              "3          11\n",
              "4           0"
            ]
          },
          "metadata": {
            "tags": []
          },
          "execution_count": 46
        }
      ]
    },
    {
      "cell_type": "code",
      "metadata": {
        "id": "cDP-1NlWEXHN",
        "colab_type": "code",
        "colab": {}
      },
      "source": [
        "#dropping the dependent variables from our original dataframe\n",
        "X = df.drop(['abundance', 'abundance2'], axis=1)"
      ],
      "execution_count": 0,
      "outputs": []
    },
    {
      "cell_type": "code",
      "metadata": {
        "id": "qu7QQvamEdkT",
        "colab_type": "code",
        "outputId": "187ec7d6-7070-4474-8024-0670d6645cf5",
        "colab": {
          "base_uri": "https://localhost:8080/",
          "height": 224
        }
      },
      "source": [
        "#checking the head of the new dataframe with dependent variable dropped \n",
        "X.head()   \n"
      ],
      "execution_count": 0,
      "outputs": [
        {
          "output_type": "execute_result",
          "data": {
            "text/html": [
              "<div>\n",
              "<style scoped>\n",
              "    .dataframe tbody tr th:only-of-type {\n",
              "        vertical-align: middle;\n",
              "    }\n",
              "\n",
              "    .dataframe tbody tr th {\n",
              "        vertical-align: top;\n",
              "    }\n",
              "\n",
              "    .dataframe thead th {\n",
              "        text-align: right;\n",
              "    }\n",
              "</style>\n",
              "<table border=\"1\" class=\"dataframe\">\n",
              "  <thead>\n",
              "    <tr style=\"text-align: right;\">\n",
              "      <th></th>\n",
              "      <th>form</th>\n",
              "      <th>exp</th>\n",
              "      <th>type</th>\n",
              "      <th>geozone</th>\n",
              "      <th>date</th>\n",
              "      <th>stemp</th>\n",
              "      <th>btemp</th>\n",
              "      <th>btime</th>\n",
              "      <th>start</th>\n",
              "      <th>visib</th>\n",
              "      <th>maxdepth</th>\n",
              "      <th>current</th>\n",
              "      <th>habitat</th>\n",
              "      <th>species</th>\n",
              "      <th>year</th>\n",
              "      <th>as_as_date</th>\n",
              "      <th>quarter_year</th>\n",
              "      <th>lat</th>\n",
              "      <th>lon</th>\n",
              "      <th>lat2</th>\n",
              "      <th>lon2</th>\n",
              "      <th>state</th>\n",
              "      <th>semester</th>\n",
              "      <th>maxsst30</th>\n",
              "      <th>maxsst60</th>\n",
              "      <th>maxsst90</th>\n",
              "      <th>maxsst180</th>\n",
              "      <th>maxsst360</th>\n",
              "      <th>maxanom30</th>\n",
              "      <th>maxanom60</th>\n",
              "      <th>maxanom90</th>\n",
              "      <th>maxanom180</th>\n",
              "      <th>maxanom360</th>\n",
              "      <th>maxsst30_days</th>\n",
              "      <th>maxsst60_days</th>\n",
              "      <th>maxsst90_days</th>\n",
              "      <th>maxsst180_days</th>\n",
              "      <th>maxsst360_days</th>\n",
              "      <th>maxanom30_days</th>\n",
              "      <th>maxanom60_days</th>\n",
              "      <th>maxanom90_days</th>\n",
              "      <th>maxanom180_days</th>\n",
              "      <th>maxanom360_days</th>\n",
              "    </tr>\n",
              "  </thead>\n",
              "  <tbody>\n",
              "    <tr>\n",
              "      <th>0</th>\n",
              "      <td>5113523</td>\n",
              "      <td>NaN</td>\n",
              "      <td>2</td>\n",
              "      <td>13350001</td>\n",
              "      <td>NaN</td>\n",
              "      <td>0</td>\n",
              "      <td>50</td>\n",
              "      <td>77</td>\n",
              "      <td>19</td>\n",
              "      <td>4</td>\n",
              "      <td>10</td>\n",
              "      <td>3</td>\n",
              "      <td>11</td>\n",
              "      <td>173</td>\n",
              "      <td>2016</td>\n",
              "      <td>NaN</td>\n",
              "      <td>NaN</td>\n",
              "      <td>NaN</td>\n",
              "      <td>NaN</td>\n",
              "      <td>49.18835</td>\n",
              "      <td>-124.14497</td>\n",
              "      <td>NaN</td>\n",
              "      <td>1.2016</td>\n",
              "      <td>18.12</td>\n",
              "      <td>18.12</td>\n",
              "      <td>18.12</td>\n",
              "      <td>18.12</td>\n",
              "      <td>20.12</td>\n",
              "      <td>4.05</td>\n",
              "      <td>4.05</td>\n",
              "      <td>4.05</td>\n",
              "      <td>4.05</td>\n",
              "      <td>4.35</td>\n",
              "      <td>16</td>\n",
              "      <td>16</td>\n",
              "      <td>16</td>\n",
              "      <td>16</td>\n",
              "      <td>327</td>\n",
              "      <td>17</td>\n",
              "      <td>17</td>\n",
              "      <td>17</td>\n",
              "      <td>17</td>\n",
              "      <td>359</td>\n",
              "    </tr>\n",
              "    <tr>\n",
              "      <th>1</th>\n",
              "      <td>5107481</td>\n",
              "      <td>NaN</td>\n",
              "      <td>2</td>\n",
              "      <td>13350001</td>\n",
              "      <td>NaN</td>\n",
              "      <td>0</td>\n",
              "      <td>45</td>\n",
              "      <td>60</td>\n",
              "      <td>10</td>\n",
              "      <td>3</td>\n",
              "      <td>6</td>\n",
              "      <td>3</td>\n",
              "      <td>11</td>\n",
              "      <td>173</td>\n",
              "      <td>2016</td>\n",
              "      <td>NaN</td>\n",
              "      <td>NaN</td>\n",
              "      <td>NaN</td>\n",
              "      <td>NaN</td>\n",
              "      <td>49.18835</td>\n",
              "      <td>-124.14497</td>\n",
              "      <td>NaN</td>\n",
              "      <td>1.2016</td>\n",
              "      <td>9.18</td>\n",
              "      <td>10.34</td>\n",
              "      <td>12.75</td>\n",
              "      <td>20.12</td>\n",
              "      <td>20.12</td>\n",
              "      <td>1.45</td>\n",
              "      <td>1.62</td>\n",
              "      <td>1.75</td>\n",
              "      <td>3.93</td>\n",
              "      <td>5.30</td>\n",
              "      <td>29</td>\n",
              "      <td>59</td>\n",
              "      <td>82</td>\n",
              "      <td>162</td>\n",
              "      <td>162</td>\n",
              "      <td>29</td>\n",
              "      <td>32</td>\n",
              "      <td>82</td>\n",
              "      <td>162</td>\n",
              "      <td>225</td>\n",
              "    </tr>\n",
              "    <tr>\n",
              "      <th>2</th>\n",
              "      <td>5034193</td>\n",
              "      <td>NaN</td>\n",
              "      <td>2</td>\n",
              "      <td>12090802</td>\n",
              "      <td>NaN</td>\n",
              "      <td>10</td>\n",
              "      <td>10</td>\n",
              "      <td>37</td>\n",
              "      <td>14</td>\n",
              "      <td>2</td>\n",
              "      <td>3</td>\n",
              "      <td>3</td>\n",
              "      <td>11</td>\n",
              "      <td>173</td>\n",
              "      <td>2010</td>\n",
              "      <td>NaN</td>\n",
              "      <td>NaN</td>\n",
              "      <td>NaN</td>\n",
              "      <td>NaN</td>\n",
              "      <td>48.50070</td>\n",
              "      <td>-125.08080</td>\n",
              "      <td>NaN</td>\n",
              "      <td>1.2010</td>\n",
              "      <td>11.14</td>\n",
              "      <td>11.14</td>\n",
              "      <td>11.14</td>\n",
              "      <td>11.14</td>\n",
              "      <td>15.63</td>\n",
              "      <td>0.24</td>\n",
              "      <td>0.24</td>\n",
              "      <td>0.82</td>\n",
              "      <td>1.95</td>\n",
              "      <td>2.79</td>\n",
              "      <td>19</td>\n",
              "      <td>19</td>\n",
              "      <td>19</td>\n",
              "      <td>19</td>\n",
              "      <td>271</td>\n",
              "      <td>19</td>\n",
              "      <td>19</td>\n",
              "      <td>82</td>\n",
              "      <td>133</td>\n",
              "      <td>271</td>\n",
              "    </tr>\n",
              "    <tr>\n",
              "      <th>3</th>\n",
              "      <td>50508</td>\n",
              "      <td>NaN</td>\n",
              "      <td>2</td>\n",
              "      <td>22190002</td>\n",
              "      <td>NaN</td>\n",
              "      <td>51</td>\n",
              "      <td>48</td>\n",
              "      <td>39</td>\n",
              "      <td>13</td>\n",
              "      <td>1</td>\n",
              "      <td>7</td>\n",
              "      <td>2</td>\n",
              "      <td>2</td>\n",
              "      <td>173</td>\n",
              "      <td>2006</td>\n",
              "      <td>NaN</td>\n",
              "      <td>NaN</td>\n",
              "      <td>NaN</td>\n",
              "      <td>NaN</td>\n",
              "      <td>48.35473</td>\n",
              "      <td>-122.40993</td>\n",
              "      <td>NaN</td>\n",
              "      <td>1.2006</td>\n",
              "      <td>8.05</td>\n",
              "      <td>8.22</td>\n",
              "      <td>8.22</td>\n",
              "      <td>13.32</td>\n",
              "      <td>14.99</td>\n",
              "      <td>0.82</td>\n",
              "      <td>0.94</td>\n",
              "      <td>0.94</td>\n",
              "      <td>1.35</td>\n",
              "      <td>2.55</td>\n",
              "      <td>28</td>\n",
              "      <td>35</td>\n",
              "      <td>35</td>\n",
              "      <td>178</td>\n",
              "      <td>209</td>\n",
              "      <td>28</td>\n",
              "      <td>35</td>\n",
              "      <td>35</td>\n",
              "      <td>178</td>\n",
              "      <td>209</td>\n",
              "    </tr>\n",
              "    <tr>\n",
              "      <th>4</th>\n",
              "      <td>5045686</td>\n",
              "      <td>NaN</td>\n",
              "      <td>2</td>\n",
              "      <td>27020107</td>\n",
              "      <td>NaN</td>\n",
              "      <td>56</td>\n",
              "      <td>0</td>\n",
              "      <td>30</td>\n",
              "      <td>15</td>\n",
              "      <td>2</td>\n",
              "      <td>3</td>\n",
              "      <td>2</td>\n",
              "      <td>1</td>\n",
              "      <td>173</td>\n",
              "      <td>2011</td>\n",
              "      <td>NaN</td>\n",
              "      <td>NaN</td>\n",
              "      <td>NaN</td>\n",
              "      <td>NaN</td>\n",
              "      <td>48.08413</td>\n",
              "      <td>-123.37813</td>\n",
              "      <td>NaN</td>\n",
              "      <td>1.2011</td>\n",
              "      <td>8.62</td>\n",
              "      <td>8.62</td>\n",
              "      <td>8.62</td>\n",
              "      <td>10.43</td>\n",
              "      <td>12.09</td>\n",
              "      <td>-0.50</td>\n",
              "      <td>-0.21</td>\n",
              "      <td>0.09</td>\n",
              "      <td>1.03</td>\n",
              "      <td>1.03</td>\n",
              "      <td>0</td>\n",
              "      <td>0</td>\n",
              "      <td>0</td>\n",
              "      <td>177</td>\n",
              "      <td>268</td>\n",
              "      <td>29</td>\n",
              "      <td>39</td>\n",
              "      <td>75</td>\n",
              "      <td>175</td>\n",
              "      <td>175</td>\n",
              "    </tr>\n",
              "  </tbody>\n",
              "</table>\n",
              "</div>"
            ],
            "text/plain": [
              "      form  exp  type  ...  maxanom90_days  maxanom180_days  maxanom360_days\n",
              "0  5113523  NaN     2  ...              17               17              359\n",
              "1  5107481  NaN     2  ...              82              162              225\n",
              "2  5034193  NaN     2  ...              82              133              271\n",
              "3    50508  NaN     2  ...              35              178              209\n",
              "4  5045686  NaN     2  ...              75              175              175\n",
              "\n",
              "[5 rows x 43 columns]"
            ]
          },
          "metadata": {
            "tags": []
          },
          "execution_count": 37
        }
      ]
    },
    {
      "cell_type": "code",
      "metadata": {
        "trusted": true,
        "_uuid": "a4acbaecdb78e8c1ec5e8d20f96675a07e1058a3",
        "id": "FRcvoUdu_yCz",
        "colab_type": "code",
        "colab": {}
      },
      "source": [
        "# plotting feature importance manually\n",
        "from numpy import loadtxt\n",
        "from xgboost import XGBClassifier\n",
        "from matplotlib import pyplot\n"
      ],
      "execution_count": 0,
      "outputs": []
    },
    {
      "cell_type": "code",
      "metadata": {
        "trusted": true,
        "_uuid": "333cc9c32a6a8b1a9fe3ccd33dfebff537f926a6",
        "id": "iYiQih0L_yC1",
        "colab_type": "code",
        "outputId": "1f75ef54-a551-4bb7-ef64-bd46bc99198a",
        "colab": {
          "base_uri": "https://localhost:8080/",
          "height": 224
        }
      },
      "source": [
        "# creating a model\n",
        "model = XGBClassifier()\n",
        "model.fit(X, y)"
      ],
      "execution_count": 0,
      "outputs": [
        {
          "output_type": "stream",
          "text": [
            "/usr/local/lib/python3.6/dist-packages/sklearn/preprocessing/label.py:219: DataConversionWarning: A column-vector y was passed when a 1d array was expected. Please change the shape of y to (n_samples, ), for example using ravel().\n",
            "  y = column_or_1d(y, warn=True)\n",
            "/usr/local/lib/python3.6/dist-packages/sklearn/preprocessing/label.py:252: DataConversionWarning: A column-vector y was passed when a 1d array was expected. Please change the shape of y to (n_samples, ), for example using ravel().\n",
            "  y = column_or_1d(y, warn=True)\n"
          ],
          "name": "stderr"
        },
        {
          "output_type": "execute_result",
          "data": {
            "text/plain": [
              "XGBClassifier(base_score=0.5, booster='gbtree', colsample_bylevel=1,\n",
              "              colsample_bynode=1, colsample_bytree=1, gamma=0,\n",
              "              learning_rate=0.1, max_delta_step=0, max_depth=3,\n",
              "              min_child_weight=1, missing=None, n_estimators=100, n_jobs=1,\n",
              "              nthread=None, objective='multi:softprob', random_state=0,\n",
              "              reg_alpha=0, reg_lambda=1, scale_pos_weight=1, seed=None,\n",
              "              silent=None, subsample=1, verbosity=1)"
            ]
          },
          "metadata": {
            "tags": []
          },
          "execution_count": 39
        }
      ]
    },
    {
      "cell_type": "code",
      "metadata": {
        "id": "OimkELg7G7gY",
        "colab_type": "code",
        "outputId": "5246ce13-4797-4cbe-c66b-e024ac49b048",
        "colab": {
          "base_uri": "https://localhost:8080/",
          "height": 357
        }
      },
      "source": [
        "# displaying feature importances\n",
        "print(model.feature_importances_)\n",
        "# plotting first plot\n",
        "pyplot.bar(range(len(model.feature_importances_)), model.feature_importances_)\n",
        "pyplot.show()"
      ],
      "execution_count": 0,
      "outputs": [
        {
          "output_type": "stream",
          "text": [
            "[0.101136 0.       0.013206 0.033017 0.       0.014937 0.009732 0.01878  0.011533 0.007305 0.017249 0.025179 0.010651\n",
            " 0.       0.23601  0.       0.       0.       0.       0.070718 0.061463 0.       0.017836 0.025239 0.027125 0.024106\n",
            " 0.016141 0.030631 0.007775 0.012508 0.011447 0.017029 0.01957  0.0356   0.023891 0.010065 0.00898  0.017657 0.01151\n",
            " 0.012642 0.008715 0.013321 0.017297]\n"
          ],
          "name": "stdout"
        },
        {
          "output_type": "display_data",
          "data": {
            "image/png": "[encoded data removed]",
            "text/plain": [
              "<Figure size 432x288 with 1 Axes>"
            ]
          },
          "metadata": {
            "tags": []
          }
        }
      ]
    },
    {
      "cell_type": "code",
      "metadata": {
        "id": "rrAJMuVrHBLk",
        "colab_type": "code",
        "outputId": "cd61caa3-8959-4e23-a9c9-92c0b5cca2be",
        "colab": {
          "base_uri": "https://localhost:8080/",
          "height": 295
        }
      },
      "source": [
        "#beatifying the plot to be more readable\n",
        "\n",
        "import matplotlib.pylab as plt\n",
        "from matplotlib import pyplot\n",
        "from xgboost import plot_importance\n",
        "plot_importance(model, max_num_features=20) # top 10 most important features\n",
        "plt.show()"
      ],
      "execution_count": 0,
      "outputs": [
        {
          "output_type": "display_data",
          "data": {
            "image/png": "[encoded data removed]",
            "text/plain": [
              "<Figure size 432x288 with 1 Axes>"
            ]
          },
          "metadata": {
            "tags": []
          }
        }
      ]
    },
    {
      "cell_type": "code",
      "metadata": {
        "id": "Cp5SW7vUHTJg",
        "colab_type": "code",
        "colab": {}
      },
      "source": [
        ""
      ],
      "execution_count": 0,
      "outputs": []
    }
  ]
}